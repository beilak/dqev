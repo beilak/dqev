{
  "nbformat": 4,
  "nbformat_minor": 0,
  "metadata": {
    "colab": {
      "provenance": [],
      "authorship_tag": "ABX9TyP7FKKUpR4B09Lhvfyex0OZ",
      "include_colab_link": true
    },
    "kernelspec": {
      "name": "python3",
      "display_name": "Python 3"
    },
    "language_info": {
      "name": "python"
    }
  },
  "cells": [
    {
      "cell_type": "markdown",
      "metadata": {
        "id": "view-in-github",
        "colab_type": "text"
      },
      "source": [
        "<a href=\"https://colab.research.google.com/github/beilak/qdev/blob/main/first_step/Q_Hello_World.ipynb\" target=\"_parent\"><img src=\"https://colab.research.google.com/assets/colab-badge.svg\" alt=\"Open In Colab\"/></a>"
      ]
    },
    {
      "cell_type": "code",
      "source": [
        "!pip install qiskit -q\n",
        "!pip install qiskit_ibm_provider -q"
      ],
      "metadata": {
        "colab": {
          "base_uri": "https://localhost:8080/"
        },
        "id": "wGWl4QIawwDK",
        "outputId": "06d29061-f15c-498f-d248-7dd8e85fbf1b"
      },
      "execution_count": 2,
      "outputs": [
        {
          "output_type": "stream",
          "name": "stdout",
          "text": [
            "  Installing build dependencies ... \u001b[?25l\u001b[?25hdone\n",
            "  Getting requirements to build wheel ... \u001b[?25l\u001b[?25hdone\n",
            "  Installing backend dependencies ... \u001b[?25l\u001b[?25hdone\n",
            "  Preparing metadata (pyproject.toml) ... \u001b[?25l\u001b[?25hdone\n",
            "\u001b[2K     \u001b[90m━━━━━━━━━━━━━━━━━━━━━━━━━━━━━━━━━━━━━━━━\u001b[0m \u001b[32m5.9/5.9 MB\u001b[0m \u001b[31m43.1 MB/s\u001b[0m eta \u001b[36m0:00:00\u001b[0m\n",
            "\u001b[2K     \u001b[90m━━━━━━━━━━━━━━━━━━━━━━━━━━━━━━━━━━━━━━━━\u001b[0m \u001b[32m12.8/12.8 MB\u001b[0m \u001b[31m65.1 MB/s\u001b[0m eta \u001b[36m0:00:00\u001b[0m\n",
            "\u001b[2K     \u001b[90m━━━━━━━━━━━━━━━━━━━━━━━━━━━━━━━━━━━━━━\u001b[0m \u001b[32m241.5/241.5 kB\u001b[0m \u001b[31m20.9 MB/s\u001b[0m eta \u001b[36m0:00:00\u001b[0m\n",
            "\u001b[2K     \u001b[90m━━━━━━━━━━━━━━━━━━━━━━━━━━━━━━━━━━━━━━\u001b[0m \u001b[32m129.9/129.9 kB\u001b[0m \u001b[31m12.7 MB/s\u001b[0m eta \u001b[36m0:00:00\u001b[0m\n",
            "\u001b[2K     \u001b[90m━━━━━━━━━━━━━━━━━━━━━━━━━━━━━━━━━━━━━━━━\u001b[0m \u001b[32m1.9/1.9 MB\u001b[0m \u001b[31m51.1 MB/s\u001b[0m eta \u001b[36m0:00:00\u001b[0m\n",
            "\u001b[2K     \u001b[90m━━━━━━━━━━━━━━━━━━━━━━━━━━━━━━━━━━━━━━━━\u001b[0m \u001b[32m49.6/49.6 kB\u001b[0m \u001b[31m4.3 MB/s\u001b[0m eta \u001b[36m0:00:00\u001b[0m\n",
            "\u001b[2K     \u001b[90m━━━━━━━━━━━━━━━━━━━━━━━━━━━━━━━━━━━━━━\u001b[0m \u001b[32m110.5/110.5 kB\u001b[0m \u001b[31m10.1 MB/s\u001b[0m eta \u001b[36m0:00:00\u001b[0m\n",
            "\u001b[2K     \u001b[90m━━━━━━━━━━━━━━━━━━━━━━━━━━━━━━━━━━━━━━━━\u001b[0m \u001b[32m49.6/49.6 kB\u001b[0m \u001b[31m5.1 MB/s\u001b[0m eta \u001b[36m0:00:00\u001b[0m\n",
            "\u001b[2K     \u001b[90m━━━━━━━━━━━━━━━━━━━━━━━━━━━━━━━━━━━━━━━━\u001b[0m \u001b[32m37.5/37.5 MB\u001b[0m \u001b[31m13.3 MB/s\u001b[0m eta \u001b[36m0:00:00\u001b[0m\n",
            "\u001b[2K     \u001b[90m━━━━━━━━━━━━━━━━━━━━━━━━━━━━━━━━━━━━━━━━\u001b[0m \u001b[32m4.3/4.3 MB\u001b[0m \u001b[31m95.2 MB/s\u001b[0m eta \u001b[36m0:00:00\u001b[0m\n",
            "\u001b[2K     \u001b[90m━━━━━━━━━━━━━━━━━━━━━━━━━━━━━━━━━━━━━━\u001b[0m \u001b[32m112.7/112.7 kB\u001b[0m \u001b[31m11.9 MB/s\u001b[0m eta \u001b[36m0:00:00\u001b[0m\n",
            "\u001b[?25h  Building wheel for qiskit (pyproject.toml) ... \u001b[?25l\u001b[?25hdone\n",
            "\u001b[2K     \u001b[90m━━━━━━━━━━━━━━━━━━━━━━━━━━━━━━━━━━━━━━━\u001b[0m \u001b[32m233.8/233.8 kB\u001b[0m \u001b[31m5.1 MB/s\u001b[0m eta \u001b[36m0:00:00\u001b[0m\n",
            "\u001b[?25h"
          ]
        }
      ]
    },
    {
      "cell_type": "code",
      "execution_count": 3,
      "metadata": {
        "id": "DMPS7uqGwb1L"
      },
      "outputs": [],
      "source": [
        "import os\n",
        "from qiskit import QuantumCircuit\n",
        "from qiskit.visualization import plot_histogram\n",
        "from qiskit import Aer, transpile\n",
        "import matplotlib.pyplot as plt\n",
        "from qiskit_ibm_provider import IBMProvider\n",
        "from qiskit_ibm_provider.ibm_backend import IBMBackend\n",
        "from qiskit_aer.backends.qasm_simulator import QasmSimulator\n",
        "from qiskit_aer.jobs.aerjob import AerJob\n",
        "\n"
      ]
    },
    {
      "cell_type": "code",
      "source": [
        "TOKEN: str = \"\""
      ],
      "metadata": {
        "id": "VnQEwkebwnCe"
      },
      "execution_count": 4,
      "outputs": []
    },
    {
      "cell_type": "code",
      "source": [
        "# Circuit\n",
        "qc: QuantumCircuit = QuantumCircuit(3)\n",
        "\n",
        "# Gate's\n",
        "qc.h(0)\n",
        "\n",
        "qc.cx(0, 1)\n",
        "qc.cx(0, 2)\n",
        "\n",
        "qc.measure_all()\n",
        "\n",
        "qc.draw()\n"
      ],
      "metadata": {
        "colab": {
          "base_uri": "https://localhost:8080/",
          "height": 156
        },
        "id": "mvm81aHywe6G",
        "outputId": "b716949e-4afd-4dc7-8b88-562a1f2adc69"
      },
      "execution_count": 5,
      "outputs": [
        {
          "output_type": "execute_result",
          "data": {
            "text/plain": [
              "        ┌───┐           ░ ┌─┐      \n",
              "   q_0: ┤ H ├──■────■───░─┤M├──────\n",
              "        └───┘┌─┴─┐  │   ░ └╥┘┌─┐   \n",
              "   q_1: ─────┤ X ├──┼───░──╫─┤M├───\n",
              "             └───┘┌─┴─┐ ░  ║ └╥┘┌─┐\n",
              "   q_2: ──────────┤ X ├─░──╫──╫─┤M├\n",
              "                  └───┘ ░  ║  ║ └╥┘\n",
              "meas: 3/═══════════════════╩══╩══╩═\n",
              "                           0  1  2 "
            ],
            "text/html": [
              "<pre style=\"word-wrap: normal;white-space: pre;background: #fff0;line-height: 1.1;font-family: &quot;Courier New&quot;,Courier,monospace\">        ┌───┐           ░ ┌─┐      \n",
              "   q_0: ┤ H ├──■────■───░─┤M├──────\n",
              "        └───┘┌─┴─┐  │   ░ └╥┘┌─┐   \n",
              "   q_1: ─────┤ X ├──┼───░──╫─┤M├───\n",
              "             └───┘┌─┴─┐ ░  ║ └╥┘┌─┐\n",
              "   q_2: ──────────┤ X ├─░──╫──╫─┤M├\n",
              "                  └───┘ ░  ║  ║ └╥┘\n",
              "meas: 3/═══════════════════╩══╩══╩═\n",
              "                           0  1  2 </pre>"
            ]
          },
          "metadata": {},
          "execution_count": 5
        }
      ]
    },
    {
      "cell_type": "code",
      "source": [],
      "metadata": {
        "id": "5suc_12zw7ab"
      },
      "execution_count": null,
      "outputs": []
    },
    {
      "cell_type": "code",
      "source": [
        "# SIMULATOR\n",
        "backend_sim: QasmSimulator = Aer.get_backend('qasm_simulator')\n",
        "job_sim: AerJob = backend_sim.run(\n",
        "    transpile(qc, backend_sim),\n",
        "    shots=1024,\n",
        ")\n",
        "\n",
        "result_sim = job_sim.result()\n",
        "counts = result_sim.get_counts(qc)\n",
        "print(counts)\n",
        "\n",
        "plot_histogram(counts)\n"
      ],
      "metadata": {
        "colab": {
          "base_uri": "https://localhost:8080/",
          "height": 491
        },
        "id": "JYt7pOPuwjIg",
        "outputId": "abdac93a-6314-432f-9d1b-56549dfaf14f"
      },
      "execution_count": 7,
      "outputs": [
        {
          "output_type": "stream",
          "name": "stdout",
          "text": [
            "{'000': 537, '111': 487}\n"
          ]
        },
        {
          "output_type": "execute_result",
          "data": {
            "text/plain": [
              "<Figure size 700x500 with 1 Axes>"
            ],
            "image/png": "[encoded data removed]"
          },
          "metadata": {},
          "execution_count": 7
        }
      ]
    },
    {
      "cell_type": "code",
      "source": [
        "# # Connect to QUANTUM COMPUTER.\n",
        "print(f\"Looking for Backend\")\n",
        "provider: IBMProvider = IBMProvider(token=TOKEN)\n",
        "backend: IBMBackend = provider.backends(\n",
        "    filters=lambda x: not x.configuration().simulator\n",
        "                      and x.status().operational == True,\n",
        "    min_num_qubits=3,\n",
        ")[0]\n",
        "print(f\"{ backend = }\")\n",
        "\n",
        "transpiled_qc: QuantumCircuit = transpile(qc, backend)\n",
        "print(f\"Running QC....\")\n",
        "job = backend.run(\n",
        "    transpiled_qc,\n",
        "    job_tags=[\"31\", \"CNOT\"],\n",
        "    shots=1024,\n",
        ")\n",
        "print(f\"DONE\")"
      ],
      "metadata": {
        "id": "4KCm4c3XwgpQ"
      },
      "execution_count": null,
      "outputs": []
    }
  ]
}